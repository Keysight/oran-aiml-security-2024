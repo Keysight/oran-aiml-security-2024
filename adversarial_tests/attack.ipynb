{
 "cells": [
  {
   "cell_type": "code",
   "execution_count": null,
   "id": "722dc913-05e9-4f19-9c59-a0a6bb938340",
   "metadata": {},
   "outputs": [],
   "source": [
    "import sys\n",
    "import os\n",
    "notebook_dir = os.getcwd()\n",
    "sys.path.append(os.path.abspath(os.path.join(notebook_dir, '..')))\n",
    "\n",
    "import pandas as pd\n",
    "from isolated_ad_model.processing import PREPROCESS\n",
    "import logging \n",
    "from AnomalyModelFactory import AnomalyModelFactory\n",
    "from AnomalyRobustnessEvaluator import AnomalyRobustnessEvaluator\n",
    "\n",
    "logging.basicConfig(\n",
    "    level=logging.INFO, \n",
    "    format='%(asctime)s [%(levelname)s] %(message)s', \n",
    "    handlers=[logging.StreamHandler()]\n",
    ")\n",
    "\n",
    "logger = logging.getLogger(__name__)"
   ]
  },
  {
   "cell_type": "code",
   "execution_count": null,
   "id": "d59c5112-bfbd-48e1-b193-daf0ef7251d8",
   "metadata": {},
   "outputs": [],
   "source": [
    "#config\n",
    "use_cached_model = True\n",
    "model_name = \"isolation_forest\"\n",
    "model_path = \"model_\" + model_name + \".pkl\"\n",
    "\n",
    "#obtain the dataset\n",
    "dataset = pd.read_csv('../isolated_ad_model/ue.csv')\n",
    "true_anomalies = dataset['Viavi.UE.anomalies']\n",
    "ps = PREPROCESS(dataset)  # TODO: Is it possible to get rid of src/scale dependency? \n",
    "ps.process()\n",
    "training_data = ps.data\n",
    "\n",
    "#obtain the model\n",
    "model_factory = AnomalyModelFactory() # TODO: Add configuration from file\n",
    "\n",
    "if use_cached_model:\n",
    "    model = model_factory.load_model(model_path) \n",
    "else:\n",
    "    model = model_factory.build_model(training_data, true_anomalies, model_name)\n",
    "    model_factory.save_model(model_path)\n",
    "\n",
    "AnomalyRobustnessEvaluator._save_generated_dataset(training_data, './ue_base_processed')\n",
    "\n",
    "#testing enviroment\n",
    "evaluator = AnomalyRobustnessEvaluator(model)\n",
    "\n",
    "pattern = (\n",
    "\n",
    "    {\n",
    "        \"type\": \"interval\",\n",
    "        \"features\": None,\n",
    "        \"integer_features\": None,\n",
    "        \"ratio\": 0.1,\n",
    "        \"max_ratio\": 0.3,\n",
    "        \"missing_value\": 0.0,\n",
    "        \"probability\": 0.6,\n",
    "    },\n",
    "\n",
    ")"
   ]
  },
  {
   "cell_type": "code",
   "execution_count": null,
   "id": "ee629990",
   "metadata": {},
   "outputs": [],
   "source": [
    "evaluator.test_a2pm(training_data, true_anomalies, pattern, save_adv_data=False)\n",
    "evaluator.test_hsja(training_data, true_anomalies, save_adv_data=False)"
   ]
  }
 ],
 "metadata": {
  "kernelspec": {
   "display_name": "Python 3",
   "language": "python",
   "name": "python3"
  },
  "language_info": {
   "codemirror_mode": {
    "name": "ipython",
    "version": 3
   },
   "file_extension": ".py",
   "mimetype": "text/x-python",
   "name": "python",
   "nbconvert_exporter": "python",
   "pygments_lexer": "ipython3",
   "version": "3.8.10"
  }
 },
 "nbformat": 4,
 "nbformat_minor": 5
}
